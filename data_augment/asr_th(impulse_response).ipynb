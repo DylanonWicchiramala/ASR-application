{
  "cells": [
    {
      "cell_type": "code",
      "execution_count": 1,
      "metadata": {
        "id": "ItTUOO_xLAM4"
      },
      "outputs": [],
      "source": [
        "from IPython import display\n",
        "import os, wandb"
      ]
    },
    {
      "cell_type": "code",
      "execution_count": 2,
      "metadata": {
        "colab": {
          "base_uri": "https://localhost:8080/"
        },
        "id": "aPWsOysDL9t-",
        "outputId": "b18e928d-2fab-43f9-8902-3da360a0a809"
      },
      "outputs": [
        {
          "name": "stderr",
          "output_type": "stream",
          "text": [
            "Failed to detect the name of this notebook, you can set it manually with the WANDB_NOTEBOOK_NAME environment variable to enable code saving.\n",
            "\u001b[34m\u001b[1mwandb\u001b[0m: Currently logged in as: \u001b[33mdylanonwic\u001b[0m (\u001b[33mdylanon\u001b[0m). Use \u001b[1m`wandb login --relogin`\u001b[0m to force relogin\n"
          ]
        },
        {
          "name": "stdout",
          "output_type": "stream",
          "text": [
            "env: WANDB_LOG_MODEL=true\n",
            "env: WANDB_PROJECT=Thai-ASR\n"
          ]
        }
      ],
      "source": [
        "os.environ[\"WANDB_DISABLED\"] = \"false\"\n",
        "os.environ[\"WANDB_API_KEY\"] = \"633eeb120e6c05fe397c3e72cd4fda73233e2b23\"\n",
        "\n",
        "wandb.login()\n",
        "%env WANDB_LOG_MODEL=true\n",
        "%env WANDB_PROJECT=Thai-ASR"
      ]
    },
    {
      "cell_type": "code",
      "execution_count": 3,
      "metadata": {
        "id": "WopGcxySLjl5"
      },
      "outputs": [],
      "source": [
        "import matplotlib.pyplot as plt\n",
        "from scipy.io import wavfile\n",
        "import numpy as np\n",
        "\n",
        "def plotwave(audio_data, rate):\n",
        "    # Convert the audio data to a NumPy array of floating-point values\n",
        "    audio_data = np.array(audio_data, dtype=float)\n",
        "    \n",
        "    # Get the time axis in seconds\n",
        "    time = np.arange(0, len(audio_data)) / rate\n",
        "\n",
        "    # Plot the audio data\n",
        "    plt.plot(time, audio_data)\n",
        "\n",
        "    # Add labels and title to the plot\n",
        "    plt.xlabel('Time (s)')\n",
        "    plt.ylabel('Amplitude')\n",
        "    plt.title('Sound waveform')\n",
        "\n",
        "    # Display the plot\n",
        "    plt.show()\n",
        "\n",
        "\n",
        " \n",
        "def spectrogram(signalData, Fs):\n",
        "    plt.specgram(signalData,Fs=Fs)\n",
        "    plt.xlabel('Time')\n",
        "    plt.ylabel('Frequency')\n",
        "\n",
        "    plt.show()"
      ]
    },
    {
      "cell_type": "code",
      "execution_count": 4,
      "metadata": {
        "id": "sAbTcrl4MD9y"
      },
      "outputs": [],
      "source": [
        "artifact = wandb.Artifact(name='impulse_response', type='datasets')"
      ]
    },
    {
      "attachments": {},
      "cell_type": "markdown",
      "metadata": {},
      "source": [
        "### add impluse response file to artifact"
      ]
    },
    {
      "cell_type": "code",
      "execution_count": 8,
      "metadata": {
        "id": "aJ2DuiniMgGs"
      },
      "outputs": [
        {
          "name": "stderr",
          "output_type": "stream",
          "text": [
            "\u001b[34m\u001b[1mwandb\u001b[0m: Adding directory to artifact (.\\AIR_wav_files)... Done. 0.2s\n"
          ]
        }
      ],
      "source": [
        "artifact.add_dir(local_path='./AIR_wav_files', name='optional-name')"
      ]
    },
    {
      "cell_type": "code",
      "execution_count": 13,
      "metadata": {},
      "outputs": [
        {
          "data": {
            "text/html": [
              "Changes to your `wandb` environment variables will be ignored because your `wandb` session has already started. For more information on how to modify your settings with `wandb.init()` arguments, please refer to <a href='https://wandb.me/wandb-init' target=\"_blank\">the W&B docs</a>."
            ],
            "text/plain": [
              "<IPython.core.display.HTML object>"
            ]
          },
          "metadata": {},
          "output_type": "display_data"
        },
        {
          "data": {
            "text/html": [
              "Tracking run with wandb version 0.14.0"
            ],
            "text/plain": [
              "<IPython.core.display.HTML object>"
            ]
          },
          "metadata": {},
          "output_type": "display_data"
        },
        {
          "data": {
            "text/html": [
              "Run data is saved locally in <code>c:\\Users\\dylan\\Desktop\\ASR-project\\data_augment\\wandb\\run-20230401_174000-qbpov9p7</code>"
            ],
            "text/plain": [
              "<IPython.core.display.HTML object>"
            ]
          },
          "metadata": {},
          "output_type": "display_data"
        },
        {
          "data": {
            "text/html": [
              "Syncing run <strong><a href='https://wandb.ai/dylanon/Thai-ASR/runs/qbpov9p7' target=\"_blank\">graceful-salad-157</a></strong> to <a href='https://wandb.ai/dylanon/Thai-ASR' target=\"_blank\">Weights & Biases</a> (<a href='https://wandb.me/run' target=\"_blank\">docs</a>)<br/>"
            ],
            "text/plain": [
              "<IPython.core.display.HTML object>"
            ]
          },
          "metadata": {},
          "output_type": "display_data"
        },
        {
          "data": {
            "text/html": [
              " View project at <a href='https://wandb.ai/dylanon/Thai-ASR' target=\"_blank\">https://wandb.ai/dylanon/Thai-ASR</a>"
            ],
            "text/plain": [
              "<IPython.core.display.HTML object>"
            ]
          },
          "metadata": {},
          "output_type": "display_data"
        },
        {
          "data": {
            "text/html": [
              " View run at <a href='https://wandb.ai/dylanon/Thai-ASR/runs/qbpov9p7' target=\"_blank\">https://wandb.ai/dylanon/Thai-ASR/runs/qbpov9p7</a>"
            ],
            "text/plain": [
              "<IPython.core.display.HTML object>"
            ]
          },
          "metadata": {},
          "output_type": "display_data"
        },
        {
          "data": {
            "text/plain": [
              "<wandb.sdk.wandb_artifacts.Artifact at 0x2ef6433d160>"
            ]
          },
          "execution_count": 13,
          "metadata": {},
          "output_type": "execute_result"
        }
      ],
      "source": [
        "run = wandb.init(project=\"Thai-ASR\", job_type='job-type')\n",
        "\n",
        "run.log_artifact(artifact)"
      ]
    },
    {
      "attachments": {},
      "cell_type": "markdown",
      "metadata": {},
      "source": [
        "### create wandb table"
      ]
    },
    {
      "cell_type": "code",
      "execution_count": 41,
      "metadata": {},
      "outputs": [],
      "source": [
        "columns = [\"id\", \"file\"]\n",
        "data = [[file[4:-4], wandb.Audio('./AIR_wav_files/'+file)] for file in os.listdir('./AIR_wav_files')]\n",
        "\n",
        "table = wandb.Table(columns=columns, data=data)"
      ]
    },
    {
      "cell_type": "code",
      "execution_count": 42,
      "metadata": {},
      "outputs": [
        {
          "data": {
            "text/plain": [
              "[['booth_0_0_1', <wandb.data_types.Audio at 0x2ef05337e20>],\n",
              " ['booth_0_0_2', <wandb.data_types.Audio at 0x2ef7fc30280>],\n",
              " ['booth_0_0_3', <wandb.data_types.Audio at 0x2ef7ff35880>],\n",
              " ['booth_0_1_1', <wandb.data_types.Audio at 0x2ef7ff35c10>],\n",
              " ['booth_0_1_2', <wandb.data_types.Audio at 0x2ef7ff5bcd0>],\n",
              " ['booth_0_1_3', <wandb.data_types.Audio at 0x2ef7ff35fa0>],\n",
              " ['booth_1_0_1', <wandb.data_types.Audio at 0x2ef7ff35f40>],\n",
              " ['booth_1_0_2', <wandb.data_types.Audio at 0x2ef7ff351f0>],\n",
              " ['booth_1_0_3', <wandb.data_types.Audio at 0x2ef0536b6d0>],\n",
              " ['booth_1_1_1', <wandb.data_types.Audio at 0x2ef0536b7c0>],\n",
              " ['booth_1_1_2', <wandb.data_types.Audio at 0x2ef0536b6a0>],\n",
              " ['booth_1_1_3', <wandb.data_types.Audio at 0x2ef0536b790>],\n",
              " ['lecture_0_0_1', <wandb.data_types.Audio at 0x2ef0536b850>],\n",
              " ['lecture_0_0_2', <wandb.data_types.Audio at 0x2ef0536b8b0>],\n",
              " ['lecture_0_0_3', <wandb.data_types.Audio at 0x2ef0536b580>],\n",
              " ['lecture_0_0_4', <wandb.data_types.Audio at 0x2ef0536b220>],\n",
              " ['lecture_0_0_5', <wandb.data_types.Audio at 0x2ef0536b3d0>],\n",
              " ['lecture_0_0_6', <wandb.data_types.Audio at 0x2ef0536b4f0>],\n",
              " ['lecture_0_1_1', <wandb.data_types.Audio at 0x2ef0536b3a0>],\n",
              " ['lecture_0_1_2', <wandb.data_types.Audio at 0x2ef0536b280>],\n",
              " ['lecture_0_1_3', <wandb.data_types.Audio at 0x2ef0536b1f0>],\n",
              " ['lecture_0_1_4', <wandb.data_types.Audio at 0x2ef0536b400>],\n",
              " ['lecture_0_1_5', <wandb.data_types.Audio at 0x2ef0536b340>],\n",
              " ['lecture_0_1_6', <wandb.data_types.Audio at 0x2ef0536b430>],\n",
              " ['lecture_1_0_1', <wandb.data_types.Audio at 0x2ef0536b370>],\n",
              " ['lecture_1_0_2', <wandb.data_types.Audio at 0x2ef0536bb20>],\n",
              " ['lecture_1_0_3', <wandb.data_types.Audio at 0x2ef0536ba60>],\n",
              " ['lecture_1_0_4', <wandb.data_types.Audio at 0x2ef0536b730>],\n",
              " ['lecture_1_0_5', <wandb.data_types.Audio at 0x2ef0536b970>],\n",
              " ['lecture_1_0_6', <wandb.data_types.Audio at 0x2ef0536b070>],\n",
              " ['lecture_1_1_1', <wandb.data_types.Audio at 0x2ef0536b0a0>],\n",
              " ['lecture_1_1_2', <wandb.data_types.Audio at 0x2ef0536b160>],\n",
              " ['lecture_1_1_3', <wandb.data_types.Audio at 0x2ef0536b250>],\n",
              " ['lecture_1_1_4', <wandb.data_types.Audio at 0x2ef0536b2e0>],\n",
              " ['lecture_1_1_5', <wandb.data_types.Audio at 0x2ef0536b5b0>],\n",
              " ['lecture_1_1_6', <wandb.data_types.Audio at 0x2ef0536b760>],\n",
              " ['meeting_0_0_1', <wandb.data_types.Audio at 0x2ef0536b820>],\n",
              " ['meeting_0_0_2', <wandb.data_types.Audio at 0x2ef0536b5e0>],\n",
              " ['meeting_0_0_3', <wandb.data_types.Audio at 0x2ef0536b940>],\n",
              " ['meeting_0_0_4', <wandb.data_types.Audio at 0x2ef0536ba00>],\n",
              " ['meeting_0_0_5', <wandb.data_types.Audio at 0x2ef0536b7f0>],\n",
              " ['meeting_0_1_1', <wandb.data_types.Audio at 0x2ef0536baf0>],\n",
              " ['meeting_0_1_2', <wandb.data_types.Audio at 0x2ef0536b9d0>],\n",
              " ['meeting_0_1_3', <wandb.data_types.Audio at 0x2ef0536b910>],\n",
              " ['meeting_0_1_4', <wandb.data_types.Audio at 0x2ef0536b130>],\n",
              " ['meeting_0_1_5', <wandb.data_types.Audio at 0x2ef0536b2b0>],\n",
              " ['meeting_1_0_1', <wandb.data_types.Audio at 0x2ef0536b1c0>],\n",
              " ['meeting_1_0_2', <wandb.data_types.Audio at 0x2ef0536b190>],\n",
              " ['meeting_1_0_3', <wandb.data_types.Audio at 0x2ef0536b100>],\n",
              " ['meeting_1_0_4', <wandb.data_types.Audio at 0x2ef0536b0d0>],\n",
              " ['meeting_1_0_5', <wandb.data_types.Audio at 0x2ef0536bb80>],\n",
              " ['meeting_1_1_1', <wandb.data_types.Audio at 0x2ef0536bbe0>],\n",
              " ['meeting_1_1_2', <wandb.data_types.Audio at 0x2ef0536b9a0>],\n",
              " ['meeting_1_1_3', <wandb.data_types.Audio at 0x2ef0536b8e0>],\n",
              " ['meeting_1_1_4', <wandb.data_types.Audio at 0x2ef0536ba30>],\n",
              " ['meeting_1_1_5', <wandb.data_types.Audio at 0x2ef0536ba90>],\n",
              " ['office_0_0_1', <wandb.data_types.Audio at 0x2ef0536be80>],\n",
              " ['office_0_0_2', <wandb.data_types.Audio at 0x2ef0536bcd0>],\n",
              " ['office_0_0_3', <wandb.data_types.Audio at 0x2ef0536bc70>],\n",
              " ['office_0_1_1', <wandb.data_types.Audio at 0x2ef0536bbb0>],\n",
              " ['office_0_1_2', <wandb.data_types.Audio at 0x2ef0536bb50>],\n",
              " ['office_0_1_3', <wandb.data_types.Audio at 0x2ef0536bdc0>],\n",
              " ['office_1_0_1', <wandb.data_types.Audio at 0x2ef0536bc40>],\n",
              " ['office_1_0_2', <wandb.data_types.Audio at 0x2ef0536bd60>],\n",
              " ['office_1_0_3', <wandb.data_types.Audio at 0x2ef0536bdf0>],\n",
              " ['office_1_1_1', <wandb.data_types.Audio at 0x2ef0536be20>],\n",
              " ['office_1_1_2', <wandb.data_types.Audio at 0x2ef0536bd90>],\n",
              " ['office_1_1_3', <wandb.data_types.Audio at 0x2ef0536bd00>],\n",
              " ['phone_bathroom_hfrp_1_1', <wandb.data_types.Audio at 0x2ef0536bf10>],\n",
              " ['phone_bathroom_hfrp_1_2', <wandb.data_types.Audio at 0x2ef0536beb0>],\n",
              " ['phone_bathroom_hfrp_2_1', <wandb.data_types.Audio at 0x2ef0536bc10>],\n",
              " ['phone_bathroom_hfrp_2_2', <wandb.data_types.Audio at 0x2ef0536bd30>],\n",
              " ['phone_bathroom_hfrp_3_1', <wandb.data_types.Audio at 0x2ef0536bf70>],\n",
              " ['phone_bathroom_hfrp_3_2', <wandb.data_types.Audio at 0x2ef0536bee0>],\n",
              " ['phone_bathroom_hhp_1_1', <wandb.data_types.Audio at 0x2ef0536bfa0>],\n",
              " ['phone_bathroom_hhp_1_2', <wandb.data_types.Audio at 0x2ef0536bac0>],\n",
              " ['phone_bathroom_hhp_2_1', <wandb.data_types.Audio at 0x2ef0536bca0>],\n",
              " ['phone_bathroom_hhp_2_2', <wandb.data_types.Audio at 0x2ef0536be50>],\n",
              " ['phone_bathroom_hhp_3_1', <wandb.data_types.Audio at 0x2ef0536bfd0>],\n",
              " ['phone_bathroom_hhp_3_2', <wandb.data_types.Audio at 0x2ef0536bf40>],\n",
              " ['phone_kitchen_hfrp_1_1', <wandb.data_types.Audio at 0x2ef0536b520>],\n",
              " ['phone_kitchen_hfrp_1_2', <wandb.data_types.Audio at 0x2ef0536b4c0>],\n",
              " ['phone_kitchen_hfrp_2_1', <wandb.data_types.Audio at 0x2ef0536b880>],\n",
              " ['phone_kitchen_hfrp_2_2', <wandb.data_types.Audio at 0x2ef053820d0>],\n",
              " ['phone_kitchen_hfrp_3_1', <wandb.data_types.Audio at 0x2ef05382100>],\n",
              " ['phone_kitchen_hfrp_3_2', <wandb.data_types.Audio at 0x2ef05382130>],\n",
              " ['phone_kitchen_hhp_1_1', <wandb.data_types.Audio at 0x2ef05382160>],\n",
              " ['phone_kitchen_hhp_1_2', <wandb.data_types.Audio at 0x2ef05382190>],\n",
              " ['phone_kitchen_hhp_2_1', <wandb.data_types.Audio at 0x2ef053821c0>],\n",
              " ['phone_kitchen_hhp_2_2', <wandb.data_types.Audio at 0x2ef053821f0>],\n",
              " ['phone_kitchen_hhp_3_1', <wandb.data_types.Audio at 0x2ef05382220>],\n",
              " ['phone_kitchen_hhp_3_2', <wandb.data_types.Audio at 0x2ef05382250>],\n",
              " ['phone_lecture2_hfrp_1_1', <wandb.data_types.Audio at 0x2ef05382280>],\n",
              " ['phone_lecture2_hfrp_1_2', <wandb.data_types.Audio at 0x2ef053822b0>],\n",
              " ['phone_lecture2_hfrp_2_1', <wandb.data_types.Audio at 0x2ef053822e0>],\n",
              " ['phone_lecture2_hfrp_2_2', <wandb.data_types.Audio at 0x2ef05382310>],\n",
              " ['phone_lecture2_hfrp_3_1', <wandb.data_types.Audio at 0x2ef05382340>],\n",
              " ['phone_lecture2_hfrp_3_2', <wandb.data_types.Audio at 0x2ef05382370>],\n",
              " ['phone_lecture2_hhp_1_1', <wandb.data_types.Audio at 0x2ef053823a0>],\n",
              " ['phone_lecture2_hhp_1_2', <wandb.data_types.Audio at 0x2ef053823d0>],\n",
              " ['phone_lecture2_hhp_2_1', <wandb.data_types.Audio at 0x2ef05382400>],\n",
              " ['phone_lecture2_hhp_2_2', <wandb.data_types.Audio at 0x2ef05382430>],\n",
              " ['phone_lecture2_hhp_3_1', <wandb.data_types.Audio at 0x2ef05382460>],\n",
              " ['phone_lecture2_hhp_3_2', <wandb.data_types.Audio at 0x2ef05382490>],\n",
              " ['phone_lecutre1_hfrp_1_1', <wandb.data_types.Audio at 0x2ef053824c0>],\n",
              " ['phone_lecutre1_hfrp_1_2', <wandb.data_types.Audio at 0x2ef053824f0>],\n",
              " ['phone_lecutre1_hfrp_2_1', <wandb.data_types.Audio at 0x2ef05382520>],\n",
              " ['phone_lecutre1_hfrp_2_2', <wandb.data_types.Audio at 0x2ef05382550>],\n",
              " ['phone_lecutre1_hfrp_3_1', <wandb.data_types.Audio at 0x2ef05382580>],\n",
              " ['phone_lecutre1_hfrp_3_2', <wandb.data_types.Audio at 0x2ef053825b0>],\n",
              " ['phone_lecutre1_hhp_1_1', <wandb.data_types.Audio at 0x2ef053825e0>],\n",
              " ['phone_lecutre1_hhp_1_2', <wandb.data_types.Audio at 0x2ef05382610>],\n",
              " ['phone_lecutre1_hhp_2_1', <wandb.data_types.Audio at 0x2ef05382640>],\n",
              " ['phone_lecutre1_hhp_2_2', <wandb.data_types.Audio at 0x2ef05382670>],\n",
              " ['phone_lecutre1_hhp_3_1', <wandb.data_types.Audio at 0x2ef053826a0>],\n",
              " ['phone_lecutre1_hhp_3_2', <wandb.data_types.Audio at 0x2ef053826d0>],\n",
              " ['phone_meeting_hfrp_1_1', <wandb.data_types.Audio at 0x2ef05382700>],\n",
              " ['phone_meeting_hfrp_1_2', <wandb.data_types.Audio at 0x2ef05382730>],\n",
              " ['phone_meeting_hfrp_2_1', <wandb.data_types.Audio at 0x2ef05382760>],\n",
              " ['phone_meeting_hfrp_2_2', <wandb.data_types.Audio at 0x2ef05382790>],\n",
              " ['phone_meeting_hfrp_3_1', <wandb.data_types.Audio at 0x2ef053827c0>],\n",
              " ['phone_meeting_hfrp_3_2', <wandb.data_types.Audio at 0x2ef053827f0>],\n",
              " ['phone_meeting_hhp_1_1', <wandb.data_types.Audio at 0x2ef05382820>],\n",
              " ['phone_meeting_hhp_1_2', <wandb.data_types.Audio at 0x2ef05382850>],\n",
              " ['phone_meeting_hhp_2_1', <wandb.data_types.Audio at 0x2ef05382880>],\n",
              " ['phone_meeting_hhp_2_2', <wandb.data_types.Audio at 0x2ef053828b0>],\n",
              " ['phone_meeting_hhp_3_1', <wandb.data_types.Audio at 0x2ef053828e0>],\n",
              " ['phone_meeting_hhp_3_2', <wandb.data_types.Audio at 0x2ef05382910>],\n",
              " ['phone_office1_hfrp_1_1', <wandb.data_types.Audio at 0x2ef05382940>],\n",
              " ['phone_office1_hfrp_1_2', <wandb.data_types.Audio at 0x2ef05382970>],\n",
              " ['phone_office1_hfrp_2_1', <wandb.data_types.Audio at 0x2ef053829a0>],\n",
              " ['phone_office1_hfrp_2_2', <wandb.data_types.Audio at 0x2ef053829d0>],\n",
              " ['phone_office1_hfrp_3_1', <wandb.data_types.Audio at 0x2ef05382a00>],\n",
              " ['phone_office1_hfrp_3_2', <wandb.data_types.Audio at 0x2ef05382a30>],\n",
              " ['phone_office1_hhp_1_1', <wandb.data_types.Audio at 0x2ef05382a60>],\n",
              " ['phone_office1_hhp_1_2', <wandb.data_types.Audio at 0x2ef05382a90>],\n",
              " ['phone_office1_hhp_2_1', <wandb.data_types.Audio at 0x2ef05382ac0>],\n",
              " ['phone_office1_hhp_2_2', <wandb.data_types.Audio at 0x2ef05382af0>],\n",
              " ['phone_office1_hhp_3_1', <wandb.data_types.Audio at 0x2ef05382b20>],\n",
              " ['phone_office1_hhp_3_2', <wandb.data_types.Audio at 0x2ef05382b50>],\n",
              " ['phone_stairway1_hfrp_1_1', <wandb.data_types.Audio at 0x2ef05382b80>],\n",
              " ['phone_stairway1_hfrp_1_2', <wandb.data_types.Audio at 0x2ef05382bb0>],\n",
              " ['phone_stairway1_hfrp_2_1', <wandb.data_types.Audio at 0x2ef05382be0>],\n",
              " ['phone_stairway1_hfrp_2_2', <wandb.data_types.Audio at 0x2ef05382c10>],\n",
              " ['phone_stairway1_hfrp_3_1', <wandb.data_types.Audio at 0x2ef05382c40>],\n",
              " ['phone_stairway1_hfrp_3_2', <wandb.data_types.Audio at 0x2ef05382c70>],\n",
              " ['phone_stairway1_hhp_1_1', <wandb.data_types.Audio at 0x2ef05382ca0>],\n",
              " ['phone_stairway1_hhp_1_2', <wandb.data_types.Audio at 0x2ef05382cd0>],\n",
              " ['phone_stairway1_hhp_2_1', <wandb.data_types.Audio at 0x2ef05382d00>],\n",
              " ['phone_stairway1_hhp_2_2', <wandb.data_types.Audio at 0x2ef05382d30>],\n",
              " ['phone_stairway1_hhp_3_1', <wandb.data_types.Audio at 0x2ef05382d60>],\n",
              " ['phone_stairway1_hhp_3_2', <wandb.data_types.Audio at 0x2ef05382d90>],\n",
              " ['phone_stairway2_hfrp_1_1', <wandb.data_types.Audio at 0x2ef05382dc0>],\n",
              " ['phone_stairway2_hfrp_1_2', <wandb.data_types.Audio at 0x2ef05382df0>],\n",
              " ['phone_stairway2_hfrp_2_1', <wandb.data_types.Audio at 0x2ef05382e20>],\n",
              " ['phone_stairway2_hfrp_2_2', <wandb.data_types.Audio at 0x2ef05382e50>],\n",
              " ['phone_stairway2_hfrp_3_1', <wandb.data_types.Audio at 0x2ef05382e80>],\n",
              " ['phone_stairway2_hfrp_3_2', <wandb.data_types.Audio at 0x2ef05382eb0>],\n",
              " ['phone_stairway2_hhp_1_1', <wandb.data_types.Audio at 0x2ef05382ee0>],\n",
              " ['phone_stairway2_hhp_1_2', <wandb.data_types.Audio at 0x2ef05382f10>],\n",
              " ['phone_stairway2_hhp_2_1', <wandb.data_types.Audio at 0x2ef05382f40>],\n",
              " ['phone_stairway2_hhp_2_2', <wandb.data_types.Audio at 0x2ef05382f70>],\n",
              " ['phone_stairway2_hhp_3_1', <wandb.data_types.Audio at 0x2ef05382fa0>],\n",
              " ['phone_stairway2_hhp_3_2', <wandb.data_types.Audio at 0x2ef05382fd0>],\n",
              " ['phone_stairway3_hfrp_1_1', <wandb.data_types.Audio at 0x2ef053820a0>],\n",
              " ['phone_stairway3_hfrp_1_2', <wandb.data_types.Audio at 0x2ef05382070>],\n",
              " ['phone_stairway3_hfrp_2_1', <wandb.data_types.Audio at 0x2ef05382040>],\n",
              " ['phone_stairway3_hfrp_2_2', <wandb.data_types.Audio at 0x2ef0538e040>],\n",
              " ['phone_stairway3_hfrp_3_1', <wandb.data_types.Audio at 0x2ef0538e100>],\n",
              " ['phone_stairway3_hfrp_3_2', <wandb.data_types.Audio at 0x2ef0538e130>],\n",
              " ['phone_stairway3_hhp_1_1', <wandb.data_types.Audio at 0x2ef0538e160>],\n",
              " ['phone_stairway3_hhp_1_2', <wandb.data_types.Audio at 0x2ef0538e190>],\n",
              " ['phone_stairway3_hhp_2_1', <wandb.data_types.Audio at 0x2ef0538e1c0>],\n",
              " ['phone_stairway3_hhp_2_2', <wandb.data_types.Audio at 0x2ef0538e1f0>],\n",
              " ['phone_stairway3_hhp_3_1', <wandb.data_types.Audio at 0x2ef0538e220>],\n",
              " ['phone_stairway3_hhp_3_2', <wandb.data_types.Audio at 0x2ef0538e250>],\n",
              " ['phone_stairway4_hfrp_1_1', <wandb.data_types.Audio at 0x2ef0538e280>],\n",
              " ['phone_stairway4_hfrp_1_2', <wandb.data_types.Audio at 0x2ef0538e2b0>],\n",
              " ['phone_stairway4_hfrp_2_1', <wandb.data_types.Audio at 0x2ef0538e2e0>],\n",
              " ['phone_stairway4_hfrp_2_2', <wandb.data_types.Audio at 0x2ef0538e310>],\n",
              " ['phone_stairway4_hfrp_3_1', <wandb.data_types.Audio at 0x2ef0538e340>],\n",
              " ['phone_stairway4_hfrp_3_2', <wandb.data_types.Audio at 0x2ef0538e370>],\n",
              " ['phone_stairway4_hhp_1_1', <wandb.data_types.Audio at 0x2ef0538e3a0>],\n",
              " ['phone_stairway4_hhp_1_2', <wandb.data_types.Audio at 0x2ef0538e3d0>],\n",
              " ['phone_stairway4_hhp_2_1', <wandb.data_types.Audio at 0x2ef0538e400>],\n",
              " ['phone_stairway4_hhp_2_2', <wandb.data_types.Audio at 0x2ef0538e430>],\n",
              " ['phone_stairway4_hhp_3_1', <wandb.data_types.Audio at 0x2ef0538e460>],\n",
              " ['phone_stairway4_hhp_3_2', <wandb.data_types.Audio at 0x2ef0538e490>],\n",
              " ['stairway_0_1_1_0_logsweep', <wandb.data_types.Audio at 0x2ef0538e4c0>],\n",
              " ['stairway_0_1_1_0_mls', <wandb.data_types.Audio at 0x2ef0538e4f0>],\n",
              " ['stairway_0_1_1_105_logsweep', <wandb.data_types.Audio at 0x2ef0538e520>],\n",
              " ['stairway_0_1_1_105_mls', <wandb.data_types.Audio at 0x2ef0538e550>],\n",
              " ['stairway_0_1_1_120_logsweep', <wandb.data_types.Audio at 0x2ef0538e580>],\n",
              " ['stairway_0_1_1_120_mls', <wandb.data_types.Audio at 0x2ef0538e5b0>],\n",
              " ['stairway_0_1_1_135_logsweep', <wandb.data_types.Audio at 0x2ef0538e5e0>],\n",
              " ['stairway_0_1_1_135_mls', <wandb.data_types.Audio at 0x2ef0538e610>],\n",
              " ['stairway_0_1_1_150_logsweep', <wandb.data_types.Audio at 0x2ef0538e640>],\n",
              " ['stairway_0_1_1_150_mls', <wandb.data_types.Audio at 0x2ef0538e670>],\n",
              " ['stairway_0_1_1_15_logsweep', <wandb.data_types.Audio at 0x2ef0538e6a0>],\n",
              " ['stairway_0_1_1_15_mls', <wandb.data_types.Audio at 0x2ef0538e6d0>],\n",
              " ['stairway_0_1_1_165_logsweep', <wandb.data_types.Audio at 0x2ef0538e700>],\n",
              " ['stairway_0_1_1_165_mls', <wandb.data_types.Audio at 0x2ef0538e730>],\n",
              " ['stairway_0_1_1_180_logsweep', <wandb.data_types.Audio at 0x2ef0538e760>],\n",
              " ['stairway_0_1_1_180_mls', <wandb.data_types.Audio at 0x2ef0538e790>],\n",
              " ['stairway_0_1_1_30_logsweep', <wandb.data_types.Audio at 0x2ef0538e7c0>],\n",
              " ['stairway_0_1_1_30_mls', <wandb.data_types.Audio at 0x2ef0538e7f0>],\n",
              " ['stairway_0_1_1_45_logsweep', <wandb.data_types.Audio at 0x2ef0538e820>],\n",
              " ['stairway_0_1_1_45_mls', <wandb.data_types.Audio at 0x2ef0538e850>],\n",
              " ['stairway_0_1_1_60_logsweep', <wandb.data_types.Audio at 0x2ef0538e880>],\n",
              " ['stairway_0_1_1_60_mls', <wandb.data_types.Audio at 0x2ef0538e8b0>],\n",
              " ['stairway_0_1_1_75_logsweep', <wandb.data_types.Audio at 0x2ef0538e8e0>],\n",
              " ['stairway_0_1_1_75_mls', <wandb.data_types.Audio at 0x2ef0538e910>],\n",
              " ['stairway_0_1_1_90_logsweep', <wandb.data_types.Audio at 0x2ef0538e940>],\n",
              " ['stairway_0_1_1_90_mls', <wandb.data_types.Audio at 0x2ef0538e970>],\n",
              " ['stairway_0_1_2_0_logsweep', <wandb.data_types.Audio at 0x2ef0538e9a0>],\n",
              " ['stairway_0_1_2_0_mls', <wandb.data_types.Audio at 0x2ef0538e9d0>],\n",
              " ['stairway_0_1_2_105_logsweep', <wandb.data_types.Audio at 0x2ef0538ea00>],\n",
              " ['stairway_0_1_2_105_mls', <wandb.data_types.Audio at 0x2ef0538ea30>],\n",
              " ['stairway_0_1_2_120_logsweep', <wandb.data_types.Audio at 0x2ef0538ea60>],\n",
              " ['stairway_0_1_2_120_mls', <wandb.data_types.Audio at 0x2ef0538ea90>],\n",
              " ['stairway_0_1_2_135_logsweep', <wandb.data_types.Audio at 0x2ef0538eac0>],\n",
              " ['stairway_0_1_2_135_mls', <wandb.data_types.Audio at 0x2ef0538eaf0>],\n",
              " ['stairway_0_1_2_150_logsweep', <wandb.data_types.Audio at 0x2ef0538eb20>],\n",
              " ['stairway_0_1_2_150_mls', <wandb.data_types.Audio at 0x2ef0538eb50>],\n",
              " ['stairway_0_1_2_15_logsweep', <wandb.data_types.Audio at 0x2ef0538eb80>],\n",
              " ['stairway_0_1_2_15_mls', <wandb.data_types.Audio at 0x2ef0538ebb0>],\n",
              " ['stairway_0_1_2_165_logsweep', <wandb.data_types.Audio at 0x2ef0538ebe0>],\n",
              " ['stairway_0_1_2_165_mls', <wandb.data_types.Audio at 0x2ef0538ec10>],\n",
              " ['stairway_0_1_2_180_logsweep', <wandb.data_types.Audio at 0x2ef0538ec40>],\n",
              " ['stairway_0_1_2_180_mls', <wandb.data_types.Audio at 0x2ef0538ec70>],\n",
              " ['stairway_0_1_2_30_logsweep', <wandb.data_types.Audio at 0x2ef0538eca0>],\n",
              " ['stairway_0_1_2_30_mls', <wandb.data_types.Audio at 0x2ef0538ecd0>],\n",
              " ['stairway_0_1_2_45_logsweep', <wandb.data_types.Audio at 0x2ef0538ed00>],\n",
              " ['stairway_0_1_2_45_mls', <wandb.data_types.Audio at 0x2ef0538ed30>],\n",
              " ['stairway_0_1_2_60_logsweep', <wandb.data_types.Audio at 0x2ef0538ed60>],\n",
              " ['stairway_0_1_2_60_mls', <wandb.data_types.Audio at 0x2ef0538ed90>],\n",
              " ['stairway_0_1_2_75_logsweep', <wandb.data_types.Audio at 0x2ef0538edc0>],\n",
              " ['stairway_0_1_2_75_mls', <wandb.data_types.Audio at 0x2ef0538edf0>],\n",
              " ['stairway_0_1_2_90_logsweep', <wandb.data_types.Audio at 0x2ef0538ee20>],\n",
              " ['stairway_0_1_2_90_mls', <wandb.data_types.Audio at 0x2ef0538ee50>],\n",
              " ['stairway_0_1_3_0_logsweep', <wandb.data_types.Audio at 0x2ef0538ee80>],\n",
              " ['stairway_0_1_3_0_mls', <wandb.data_types.Audio at 0x2ef0538eeb0>],\n",
              " ['stairway_0_1_3_105_logsweep', <wandb.data_types.Audio at 0x2ef0538eee0>],\n",
              " ['stairway_0_1_3_105_mls', <wandb.data_types.Audio at 0x2ef0538ef10>],\n",
              " ['stairway_0_1_3_120_logsweep', <wandb.data_types.Audio at 0x2ef0538ef40>],\n",
              " ['stairway_0_1_3_120_mls', <wandb.data_types.Audio at 0x2ef0538ef70>],\n",
              " ['stairway_0_1_3_135_logsweep', <wandb.data_types.Audio at 0x2ef0538efa0>],\n",
              " ['stairway_0_1_3_135_mls', <wandb.data_types.Audio at 0x2ef0538efd0>],\n",
              " ['stairway_0_1_3_150_logsweep', <wandb.data_types.Audio at 0x2ef0538e0d0>],\n",
              " ['stairway_0_1_3_150_mls', <wandb.data_types.Audio at 0x2ef0538e070>],\n",
              " ['stairway_0_1_3_15_logsweep', <wandb.data_types.Audio at 0x2ef0538e0a0>],\n",
              " ['stairway_0_1_3_15_mls', <wandb.data_types.Audio at 0x2ef053980d0>],\n",
              " ['stairway_0_1_3_165_logsweep', <wandb.data_types.Audio at 0x2ef05398100>],\n",
              " ['stairway_0_1_3_165_mls', <wandb.data_types.Audio at 0x2ef05398130>],\n",
              " ['stairway_0_1_3_180_logsweep', <wandb.data_types.Audio at 0x2ef05398160>],\n",
              " ['stairway_0_1_3_180_mls', <wandb.data_types.Audio at 0x2ef05398190>],\n",
              " ['stairway_0_1_3_30_logsweep', <wandb.data_types.Audio at 0x2ef053981c0>],\n",
              " ['stairway_0_1_3_30_mls', <wandb.data_types.Audio at 0x2ef053981f0>],\n",
              " ['stairway_0_1_3_45_logsweep', <wandb.data_types.Audio at 0x2ef05398220>],\n",
              " ['stairway_0_1_3_45_mls', <wandb.data_types.Audio at 0x2ef05398250>],\n",
              " ['stairway_0_1_3_60_logsweep', <wandb.data_types.Audio at 0x2ef05398280>],\n",
              " ['stairway_0_1_3_60_mls', <wandb.data_types.Audio at 0x2ef053982b0>],\n",
              " ['stairway_0_1_3_75_logsweep', <wandb.data_types.Audio at 0x2ef053982e0>],\n",
              " ['stairway_0_1_3_75_mls', <wandb.data_types.Audio at 0x2ef05398310>],\n",
              " ['stairway_0_1_3_90_logsweep', <wandb.data_types.Audio at 0x2ef05398340>],\n",
              " ['stairway_0_1_3_90_mls', <wandb.data_types.Audio at 0x2ef05398370>],\n",
              " ['stairway_1_1_1_0_logsweep', <wandb.data_types.Audio at 0x2ef053983a0>],\n",
              " ['stairway_1_1_1_0_mls', <wandb.data_types.Audio at 0x2ef053983d0>],\n",
              " ['stairway_1_1_1_105_logsweep', <wandb.data_types.Audio at 0x2ef05398400>],\n",
              " ['stairway_1_1_1_105_mls', <wandb.data_types.Audio at 0x2ef05398430>],\n",
              " ['stairway_1_1_1_120_logsweep', <wandb.data_types.Audio at 0x2ef05398460>],\n",
              " ['stairway_1_1_1_120_mls', <wandb.data_types.Audio at 0x2ef05398490>],\n",
              " ['stairway_1_1_1_135_logsweep', <wandb.data_types.Audio at 0x2ef053984c0>],\n",
              " ['stairway_1_1_1_135_mls', <wandb.data_types.Audio at 0x2ef053984f0>],\n",
              " ['stairway_1_1_1_150_logsweep', <wandb.data_types.Audio at 0x2ef05398520>],\n",
              " ['stairway_1_1_1_150_mls', <wandb.data_types.Audio at 0x2ef05398550>],\n",
              " ['stairway_1_1_1_15_logsweep', <wandb.data_types.Audio at 0x2ef05398580>],\n",
              " ['stairway_1_1_1_15_mls', <wandb.data_types.Audio at 0x2ef053985b0>],\n",
              " ['stairway_1_1_1_165_logsweep', <wandb.data_types.Audio at 0x2ef053985e0>],\n",
              " ['stairway_1_1_1_165_mls', <wandb.data_types.Audio at 0x2ef05398610>],\n",
              " ['stairway_1_1_1_180_logsweep', <wandb.data_types.Audio at 0x2ef05398640>],\n",
              " ['stairway_1_1_1_180_mls', <wandb.data_types.Audio at 0x2ef05398670>],\n",
              " ['stairway_1_1_1_30_logsweep', <wandb.data_types.Audio at 0x2ef053986a0>],\n",
              " ['stairway_1_1_1_30_mls', <wandb.data_types.Audio at 0x2ef053986d0>],\n",
              " ['stairway_1_1_1_45_logsweep', <wandb.data_types.Audio at 0x2ef05398700>],\n",
              " ['stairway_1_1_1_45_mls', <wandb.data_types.Audio at 0x2ef05398730>],\n",
              " ['stairway_1_1_1_60_logsweep', <wandb.data_types.Audio at 0x2ef05398760>],\n",
              " ['stairway_1_1_1_60_mls', <wandb.data_types.Audio at 0x2ef05398790>],\n",
              " ['stairway_1_1_1_75_logsweep', <wandb.data_types.Audio at 0x2ef053987c0>],\n",
              " ['stairway_1_1_1_75_mls', <wandb.data_types.Audio at 0x2ef053987f0>],\n",
              " ['stairway_1_1_1_90_logsweep', <wandb.data_types.Audio at 0x2ef05398820>],\n",
              " ['stairway_1_1_1_90_mls', <wandb.data_types.Audio at 0x2ef05398850>],\n",
              " ['stairway_1_1_2_0_logsweep', <wandb.data_types.Audio at 0x2ef05398880>],\n",
              " ['stairway_1_1_2_0_mls', <wandb.data_types.Audio at 0x2ef053988b0>],\n",
              " ['stairway_1_1_2_105_logsweep', <wandb.data_types.Audio at 0x2ef053988e0>],\n",
              " ['stairway_1_1_2_105_mls', <wandb.data_types.Audio at 0x2ef05398910>],\n",
              " ['stairway_1_1_2_120_logsweep', <wandb.data_types.Audio at 0x2ef05398940>],\n",
              " ['stairway_1_1_2_120_mls', <wandb.data_types.Audio at 0x2ef05398970>],\n",
              " ['stairway_1_1_2_135_logsweep', <wandb.data_types.Audio at 0x2ef053989a0>],\n",
              " ['stairway_1_1_2_135_mls', <wandb.data_types.Audio at 0x2ef053989d0>],\n",
              " ['stairway_1_1_2_150_logsweep', <wandb.data_types.Audio at 0x2ef05398a00>],\n",
              " ['stairway_1_1_2_150_mls', <wandb.data_types.Audio at 0x2ef05398a30>],\n",
              " ['stairway_1_1_2_15_logsweep', <wandb.data_types.Audio at 0x2ef05398a60>],\n",
              " ['stairway_1_1_2_15_mls', <wandb.data_types.Audio at 0x2ef05398a90>],\n",
              " ['stairway_1_1_2_165_logsweep', <wandb.data_types.Audio at 0x2ef05398ac0>],\n",
              " ['stairway_1_1_2_165_mls', <wandb.data_types.Audio at 0x2ef05398af0>],\n",
              " ['stairway_1_1_2_180_logsweep', <wandb.data_types.Audio at 0x2ef05398b20>],\n",
              " ['stairway_1_1_2_180_mls', <wandb.data_types.Audio at 0x2ef05398b50>],\n",
              " ['stairway_1_1_2_30_logsweep', <wandb.data_types.Audio at 0x2ef05398b80>],\n",
              " ['stairway_1_1_2_30_mls', <wandb.data_types.Audio at 0x2ef05398bb0>],\n",
              " ['stairway_1_1_2_45_logsweep', <wandb.data_types.Audio at 0x2ef05398be0>],\n",
              " ['stairway_1_1_2_45_mls', <wandb.data_types.Audio at 0x2ef05398c10>],\n",
              " ['stairway_1_1_2_60_logsweep', <wandb.data_types.Audio at 0x2ef05398c40>],\n",
              " ['stairway_1_1_2_60_mls', <wandb.data_types.Audio at 0x2ef05398c70>],\n",
              " ['stairway_1_1_2_75_logsweep', <wandb.data_types.Audio at 0x2ef05398ca0>],\n",
              " ['stairway_1_1_2_75_mls', <wandb.data_types.Audio at 0x2ef05398cd0>],\n",
              " ['stairway_1_1_2_90_logsweep', <wandb.data_types.Audio at 0x2ef05398d00>],\n",
              " ['stairway_1_1_2_90_mls', <wandb.data_types.Audio at 0x2ef05398d30>],\n",
              " ['stairway_1_1_3_0_logsweep', <wandb.data_types.Audio at 0x2ef05398d60>],\n",
              " ['stairway_1_1_3_0_mls', <wandb.data_types.Audio at 0x2ef05398d90>],\n",
              " ['stairway_1_1_3_105_logsweep', <wandb.data_types.Audio at 0x2ef05398dc0>],\n",
              " ['stairway_1_1_3_105_mls', <wandb.data_types.Audio at 0x2ef05398df0>],\n",
              " ['stairway_1_1_3_120_logsweep', <wandb.data_types.Audio at 0x2ef05398e20>],\n",
              " ['stairway_1_1_3_120_mls', <wandb.data_types.Audio at 0x2ef05398e50>],\n",
              " ['stairway_1_1_3_135_logsweep', <wandb.data_types.Audio at 0x2ef05398e80>],\n",
              " ['stairway_1_1_3_135_mls', <wandb.data_types.Audio at 0x2ef05398eb0>],\n",
              " ['stairway_1_1_3_150_logsweep', <wandb.data_types.Audio at 0x2ef05398ee0>],\n",
              " ['stairway_1_1_3_150_mls', <wandb.data_types.Audio at 0x2ef05398f10>],\n",
              " ['stairway_1_1_3_15_logsweep', <wandb.data_types.Audio at 0x2ef05398f40>],\n",
              " ['stairway_1_1_3_15_mls', <wandb.data_types.Audio at 0x2ef05398f70>],\n",
              " ['stairway_1_1_3_165_logsweep', <wandb.data_types.Audio at 0x2ef05398fa0>],\n",
              " ['stairway_1_1_3_165_mls', <wandb.data_types.Audio at 0x2ef05398fd0>],\n",
              " ['stairway_1_1_3_180_logsweep', <wandb.data_types.Audio at 0x2ef053980a0>],\n",
              " ['stairway_1_1_3_180_mls', <wandb.data_types.Audio at 0x2ef05398070>],\n",
              " ['stairway_1_1_3_30_logsweep', <wandb.data_types.Audio at 0x2ef05398040>],\n",
              " ['stairway_1_1_3_30_mls', <wandb.data_types.Audio at 0x2ef053a20d0>],\n",
              " ['stairway_1_1_3_45_logsweep', <wandb.data_types.Audio at 0x2ef053a2100>],\n",
              " ['stairway_1_1_3_45_mls', <wandb.data_types.Audio at 0x2ef053a2130>],\n",
              " ['stairway_1_1_3_60_logsweep', <wandb.data_types.Audio at 0x2ef053a2160>],\n",
              " ['stairway_1_1_3_60_mls', <wandb.data_types.Audio at 0x2ef053a2190>],\n",
              " ['stairway_1_1_3_75_logsweep', <wandb.data_types.Audio at 0x2ef053a21c0>],\n",
              " ['stairway_1_1_3_75_mls', <wandb.data_types.Audio at 0x2ef053a21f0>],\n",
              " ['stairway_1_1_3_90_logsweep', <wandb.data_types.Audio at 0x2ef053a2220>],\n",
              " ['stairway_1_1_3_90_mls', <wandb.data_types.Audio at 0x2ef053a2250>]]"
            ]
          },
          "execution_count": 42,
          "metadata": {},
          "output_type": "execute_result"
        }
      ],
      "source": [
        "table.data"
      ]
    },
    {
      "cell_type": "code",
      "execution_count": 49,
      "metadata": {},
      "outputs": [],
      "source": [
        "run.log({\"AIR\": table})"
      ]
    },
    {
      "cell_type": "code",
      "execution_count": 50,
      "metadata": {},
      "outputs": [],
      "source": [
        "artifact = wandb.Artifact(name='impulse_response', type='datasets')"
      ]
    },
    {
      "cell_type": "code",
      "execution_count": 51,
      "metadata": {},
      "outputs": [
        {
          "data": {
            "text/plain": [
              "ArtifactManifestEntry(path='AIR_wav_files.table.json', digest='UkJntwAXnCmRqLbgRVPg3Q==', ref=None, birth_artifact_id=None, size=76675, extra={}, local_path='C:\\\\Users\\\\dylan\\\\AppData\\\\Local\\\\wandb\\\\wandb\\\\artifacts\\\\staging\\\\tmpzd5oy8g1')"
            ]
          },
          "execution_count": 51,
          "metadata": {},
          "output_type": "execute_result"
        }
      ],
      "source": [
        "artifact.add(table, \"AIR_wav_files\")"
      ]
    }
  ],
  "metadata": {
    "colab": {
      "provenance": []
    },
    "kernelspec": {
      "display_name": "Python 3",
      "name": "python3"
    },
    "language_info": {
      "codemirror_mode": {
        "name": "ipython",
        "version": 3
      },
      "file_extension": ".py",
      "mimetype": "text/x-python",
      "name": "python",
      "nbconvert_exporter": "python",
      "pygments_lexer": "ipython3",
      "version": "3.9.13"
    }
  },
  "nbformat": 4,
  "nbformat_minor": 0
}
